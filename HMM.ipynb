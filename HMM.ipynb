{
 "cells": [
  {
   "cell_type": "markdown",
   "metadata": {},
   "source": [
    "# [HMM](https://zh.wikipedia.org/wiki/%E9%9A%90%E9%A9%AC%E5%B0%94%E5%8F%AF%E5%A4%AB%E6%A8%A1%E5%9E%8B)"
   ]
  },
  {
   "cell_type": "markdown",
   "metadata": {},
   "source": [
    "假設我有三個骰子, 每次擲骰子時 **隨機** 抽一個骰子"
   ]
  },
  {
   "cell_type": "markdown",
   "metadata": {},
   "source": [
    "![123](https://pic4.zhimg.com/435fb8d2d675dc0be95aedf27feb6b67_b.jpg)"
   ]
  },
  {
   "cell_type": "markdown",
   "metadata": {},
   "source": [
    "第一次抽到 D6 擲出 1, 第二次抽到 D8 擲出 6, 第三次抽到 D8 擲出 3"
   ]
  },
  {
   "cell_type": "markdown",
   "metadata": {},
   "source": [
    "![123](http://img.voidcn.com/vcimg/000/005/270/159_e20_46b.jpg)"
   ]
  },
  {
   "cell_type": "markdown",
   "metadata": {},
   "source": [
    "我知道我有三个骰子，六面骰，四面骰，八面骰。我也知道我掷了十次的结果（1 6 3 5 2 7 3 5 2 4），我不知道每次用了那种骰子，我想知道最有可能的骰子序列。"
   ]
  },
  {
   "cell_type": "markdown",
   "metadata": {},
   "source": [
    "**HMM 就是在解決 如果我今天只看的到 1 6 3, 如何知道 D6 D8 D8**"
   ]
  },
  {
   "cell_type": "markdown",
   "metadata": {},
   "source": [
    "**HMM 就是在解決 如果我今天只看的到 1 6 3, 如何知道 D6 D8 D8**"
   ]
  },
  {
   "cell_type": "markdown",
   "metadata": {},
   "source": [
    "**HMM 就是在解決 如果我今天只看的到 1 6 3, 如何知道 D6 D8 D8**"
   ]
  },
  {
   "cell_type": "markdown",
   "metadata": {},
   "source": [
    "所以 HMM 的 **hidden** 就是指這裡的 D6 D8 D8, 又稱 ** 隱含層 **"
   ]
  },
  {
   "cell_type": "markdown",
   "metadata": {},
   "source": [
    "- - -"
   ]
  },
  {
   "cell_type": "markdown",
   "metadata": {},
   "source": [
    "假設只丟一個骰子, 擲出 1"
   ]
  },
  {
   "cell_type": "markdown",
   "metadata": {},
   "source": [
    "![123](http://img.voidcn.com/vcimg/000/005/270/162_2e9_920.jpg)"
   ]
  },
  {
   "cell_type": "markdown",
   "metadata": {},
   "source": [
    "則猜 D4, 因為 D4 出現 1 的 **機率** 最高, P(D4=1) = 1/4 > P(D6=1) = 1/6 > P(D8=1) = 1/8"
   ]
  },
  {
   "cell_type": "markdown",
   "metadata": {},
   "source": [
    "假設丟兩個骰子, 擲出 1 6"
   ]
  },
  {
   "cell_type": "markdown",
   "metadata": {},
   "source": [
    "![123](http://img.voidcn.com/vcimg/000/005/270/163_ef1_80c.jpg)"
   ]
  },
  {
   "cell_type": "markdown",
   "metadata": {},
   "source": [
    "其實很簡單, 就是算 P(第一個骰子是D?, 第二個骰子是D?), 看看哪個 **機率** 最高"
   ]
  },
  {
   "cell_type": "markdown",
   "metadata": {},
   "source": [
    "算兩個"
   ]
  },
  {
   "cell_type": "markdown",
   "metadata": {},
   "source": [
    "### P(第一個骰子是D4, 第二個骰子是D4)"
   ]
  },
  {
   "cell_type": "markdown",
   "metadata": {},
   "source": [
    "第一個骰子是 D4, 首先你必須先抽中 D4 (機率1/3), 抽中 D4 後要擲出 1(機率 1/4), 第二次要抽中 D4 (機率1/3), 抽中 D4 後要擲出 6(機率 0)"
   ]
  },
  {
   "cell_type": "markdown",
   "metadata": {},
   "source": [
    "所以 P(第一個骰子是D4, 第二個骰子是D4) = 1/3 x 1/4 x 1/3 x 0 = 0"
   ]
  },
  {
   "cell_type": "markdown",
   "metadata": {},
   "source": [
    "### P(第一個骰子是D4, 第二個骰子是D6)"
   ]
  },
  {
   "cell_type": "markdown",
   "metadata": {},
   "source": [
    "第一個骰子是 D4, 首先你必須先抽中 D4 (機率1/3), 抽中 D4 後要擲出 1(機率 1/4), 第二次要抽中 D6 (機率1/3), 抽中 D6 後要擲出 6(機率 1/6)"
   ]
  },
  {
   "cell_type": "markdown",
   "metadata": {},
   "source": [
    "所以 P(第一個骰子是D4, 第二個骰子是D6) = 1/3 x 1/4 x 1/3 x 1/6"
   ]
  },
  {
   "cell_type": "markdown",
   "metadata": {},
   "source": [
    "同理, 如果有丟第三個骰子, 作法是一樣的"
   ]
  },
  {
   "cell_type": "markdown",
   "metadata": {},
   "source": [
    "* [範例來源](https://www.zhihu.com/question/20962240)\n",
    "* 求解是用 [Viterbi algorithm](https://en.wikipedia.org/wiki/Viterbi_algorithm), 可能在很多文獻裡會看到這個"
   ]
  },
  {
   "cell_type": "markdown",
   "metadata": {},
   "source": [
    "- - -"
   ]
  },
  {
   "cell_type": "markdown",
   "metadata": {},
   "source": [
    "## [工具](https://github.com/hmmlearn/hmmlearn)"
   ]
  },
  {
   "cell_type": "markdown",
   "metadata": {},
   "source": [
    "以上述為範例"
   ]
  },
  {
   "cell_type": "code",
   "execution_count": 1,
   "metadata": {
    "collapsed": false
   },
   "outputs": [],
   "source": [
    "import numpy as np\n",
    "from hmmlearn import hmm"
   ]
  },
  {
   "cell_type": "code",
   "execution_count": 9,
   "metadata": {
    "collapsed": true
   },
   "outputs": [],
   "source": [
    "model = hmm.MultinomialHMM(n_components=3) # 三個骰子\n",
    "model.startprob_ = np.array([1/float(3), 1/float(3), 1/float(3)]) # 每次丟之前隨機抽\n",
    "model.transmat_ = np.array([[1/float(3), 1/float(3), 1/float(3)], # 隱含層的轉移矩陣\n",
    "                            [1/float(3), 1/float(3), 1/float(3)],\n",
    "                            [1/float(3), 1/float(3), 1/float(3)]]) \n",
    "model.emissionprob_ = np.array([[1/float(4), 1/float(4), 1/float(4), 1/float(4), 0, 0, 0, 0], # 每個隱含層狀態的輸出機率\n",
    "                                [1/float(6), 1/float(6), 1/float(6), 1/float(6), 1/float(6), 1/float(6), 0, 0],\n",
    "                                [1/float(8), 1/float(8), 1/float(8), 1/float(8), 1/float(8), 1/float(8), 1/float(8), 1/float(8)]])"
   ]
  },
  {
   "cell_type": "code",
   "execution_count": 12,
   "metadata": {
    "collapsed": false
   },
   "outputs": [
    {
     "data": {
      "text/plain": [
       "array([0, 1])"
      ]
     },
     "execution_count": 12,
     "metadata": {},
     "output_type": "execute_result"
    }
   ],
   "source": [
    "X = [[0], [5]] # 擲出 1 跟 6\n",
    "model.predict(X) # D4 D6"
   ]
  },
  {
   "cell_type": "markdown",
   "metadata": {},
   "source": [
    "- - -"
   ]
  },
  {
   "cell_type": "markdown",
   "metadata": {},
   "source": [
    "## 應用"
   ]
  },
  {
   "cell_type": "markdown",
   "metadata": {},
   "source": [
    "### 斷字"
   ]
  },
  {
   "cell_type": "markdown",
   "metadata": {},
   "source": [
    "在一段文字中，我们可以将每个字按照他们在词中的位置进行标注，常用的标记有以下四个label：\n",
    "* B，Begin，表示这个字是一个词的首字；\n",
    "* M，Middle，表示这是一个词中间的字；\n",
    "* E，End，表示这是一个词的尾字；\n",
    "* S，Single，表示这是单字成词。"
   ]
  },
  {
   "cell_type": "markdown",
   "metadata": {},
   "source": [
    "举例来说：“达观数据是企业大数据服务商”，经过模型后得到的理想标注序列是：“BMMESBEBMEBME”，最终还原的分词结果是“达观数据/是/企业/大数据/服务商”。"
   ]
  },
  {
   "cell_type": "markdown",
   "metadata": {},
   "source": [
    "此時隱含層為 BMMESBEBMEBME, 就跟之前例子裡骰子種類一樣"
   ]
  },
  {
   "cell_type": "markdown",
   "metadata": {},
   "source": [
    "不一樣在於"
   ]
  },
  {
   "cell_type": "markdown",
   "metadata": {},
   "source": [
    "* 起始機率不再是 1/3, 因為斷字的情境裡 p(start = M) = p(start = E) = 0"
   ]
  },
  {
   "cell_type": "markdown",
   "metadata": {},
   "source": [
    "* 隱含層的轉移矩陣 p(S -> B) = p(B -> M) = 1"
   ]
  },
  {
   "cell_type": "markdown",
   "metadata": {},
   "source": [
    "* 每個隱含層狀態的輸出機率則更複雜, 比如 p(人|B) 表示在状态为B的情况下人字的概率"
   ]
  },
  {
   "cell_type": "markdown",
   "metadata": {},
   "source": [
    "* [範例](http://www.leiphone.com/news/201608/IWvc75oJglAIsDvJ.html)"
   ]
  },
  {
   "cell_type": "markdown",
   "metadata": {},
   "source": [
    "### 詞性標註"
   ]
  },
  {
   "cell_type": "markdown",
   "metadata": {},
   "source": [
    "斷好詞之後, 达观数据 是 企业 大数据 服务商, 隱含層是 N V N N N, follow 一樣的概念"
   ]
  },
  {
   "cell_type": "markdown",
   "metadata": {},
   "source": [
    "### 非文字應用"
   ]
  },
  {
   "cell_type": "markdown",
   "metadata": {},
   "source": [
    "* [ANOMALY NETWORK INTRUSION DETECTION USING HIDDEN MARKOV MODEL](http://www.ijicic.org/ijicic-1508-0031.pdf)"
   ]
  },
  {
   "cell_type": "markdown",
   "metadata": {},
   "source": [
    "* [維基](https://zh.wikipedia.org/wiki/%E9%9A%90%E9%A9%AC%E5%B0%94%E5%8F%AF%E5%A4%AB%E6%A8%A1%E5%9E%8B#.E9.9A.90.E9.A9.AC.E5.B0.94.E5.8F.AF.E5.A4.AB.E6.A8.A1.E5.9E.8B.E7.9A.84.E5.BA.94.E7.94.A8)"
   ]
  }
 ],
 "metadata": {
  "kernelspec": {
   "display_name": "Python (pixnet)",
   "language": "python",
   "name": "pixnet"
  },
  "language_info": {
   "codemirror_mode": {
    "name": "ipython",
    "version": 2
   },
   "file_extension": ".py",
   "mimetype": "text/x-python",
   "name": "python",
   "nbconvert_exporter": "python",
   "pygments_lexer": "ipython2",
   "version": "2.7.12"
  }
 },
 "nbformat": 4,
 "nbformat_minor": 0
}
