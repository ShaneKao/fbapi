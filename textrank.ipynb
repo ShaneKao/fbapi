{
 "cells": [
  {
   "cell_type": "markdown",
   "metadata": {},
   "source": [
    "# [TextRank](https://web.eecs.umich.edu/~mihalcea/papers/mihalcea.emnlp04.pdf)"
   ]
  },
  {
   "cell_type": "markdown",
   "metadata": {},
   "source": [
    "textrank 是基於 pagerank 的一種文字探勘技術, 我一開始也百思不得其解, **文字這種東西怎麼可能跟網頁間連來連去會有關係**, 看了很多文獻都看沒有"
   ]
  },
  {
   "cell_type": "markdown",
   "metadata": {},
   "source": [
    "直到我看了[這篇](http://ihong-blog.logdown.com/posts/873914)"
   ]
  },
  {
   "cell_type": "markdown",
   "metadata": {},
   "source": [
    "- - -"
   ]
  },
  {
   "cell_type": "markdown",
   "metadata": {},
   "source": [
    "這裡我就不贅述了, 她內容寫得算很清楚了"
   ]
  },
  {
   "cell_type": "markdown",
   "metadata": {},
   "source": [
    "下表也就是他能跟 pagerank 扯上關係的地方"
   ]
  },
  {
   "cell_type": "markdown",
   "metadata": {},
   "source": [
    "這個就是在 pagerank 裡扮演 **轉移矩陣** 的角色"
   ]
  },
  {
   "cell_type": "markdown",
   "metadata": {},
   "source": [
    "![Certificate](https://github.com/ShaneKao/fbapi/blob/master/2016-12-02_23-45-43.png?raw=true)"
   ]
  },
  {
   "cell_type": "markdown",
   "metadata": {},
   "source": [
    "不過, 我覺得表裏面的數字 **怪怪的**"
   ]
  },
  {
   "cell_type": "markdown",
   "metadata": {},
   "source": [
    "* 為什麼不是對稱的呢? 第2行第3列不等於第3行第2列, 阿不都是鮮花跟漂亮女孩的共現次數"
   ]
  },
  {
   "cell_type": "markdown",
   "metadata": {},
   "source": [
    "* 窗口 3 是已經去停用字嗎? 是 \n",
    "    >**賣/鮮花/漂亮女孩, 鮮花/漂亮女孩/買, 漂亮女孩/買/鮮花** "
   ]
  },
  {
   "cell_type": "markdown",
   "metadata": {},
   "source": [
    "* 還是 \n",
    ">**賣/鮮花/的, 鮮花/的/漂亮女孩, 的/漂亮女孩/在, 在/買/鮮花**"
   ]
  },
  {
   "cell_type": "markdown",
   "metadata": {},
   "source": [
    "* 還是說她的窗口是針對字往前往後 3 個字?"
   ]
  },
  {
   "cell_type": "markdown",
   "metadata": {},
   "source": [
    "* 不論如何, 數字都對不太起來"
   ]
  },
  {
   "cell_type": "markdown",
   "metadata": {},
   "source": [
    "- - -"
   ]
  },
  {
   "cell_type": "markdown",
   "metadata": {},
   "source": [
    "* 雖然有些疑惑, 不過 **我猜** 這種方法還是會選出 **出現次數多** 的字, 對 **第一個字** 跟 **最後一個字** 不是很公平, 而且對文章長的資料會比較有可信度"
   ]
  },
  {
   "cell_type": "markdown",
   "metadata": {},
   "source": [
    "* `jieba` 跟 `gensim` 都有工具可以跑 textrank"
   ]
  },
  {
   "cell_type": "markdown",
   "metadata": {},
   "source": [
    "* 他下一篇也有介紹 [summarize](http://ihong-blog.logdown.com/posts/874355) 是怎麼做得"
   ]
  },
  {
   "cell_type": "markdown",
   "metadata": {},
   "source": [
    "* textrank 倒是給了我很多靈感, pagerank 是死的方法, 但是想法是活的, 你可以套用任何情境到 pagerank 上, 只要你 **掰** 的出一個 **合理** 的 **轉移矩陣**"
   ]
  },
  {
   "cell_type": "markdown",
   "metadata": {},
   "source": [
    "* 比如說, 利用 w2v 得到句子向量, 利用句子跟句子的 cosine similarity 組成 **轉移矩陣**"
   ]
  },
  {
   "cell_type": "markdown",
   "metadata": {
    "collapsed": true
   },
   "source": [
    "![Certificate](http://image.slidesharecdn.com/word2vecalgorithm-141001133323-phpapp02/95/word2vec-algorithm-6-638.jpg?cb=1412174793)"
   ]
  },
  {
   "cell_type": "markdown",
   "metadata": {},
   "source": [
    "* 再利用 pagerank 得到最具代表性的句子"
   ]
  },
  {
   "cell_type": "markdown",
   "metadata": {},
   "source": [
    "![Certificate](http://image.slidesharecdn.com/word2vecalgorithm-141001133323-phpapp02/95/word2vec-algorithm-7-638.jpg?cb=1412174793)"
   ]
  }
 ],
 "metadata": {
  "kernelspec": {
   "display_name": "Python 2",
   "language": "python",
   "name": "python2"
  },
  "language_info": {
   "codemirror_mode": {
    "name": "ipython",
    "version": 2
   },
   "file_extension": ".py",
   "mimetype": "text/x-python",
   "name": "python",
   "nbconvert_exporter": "python",
   "pygments_lexer": "ipython2",
   "version": "2.7.10"
  }
 },
 "nbformat": 4,
 "nbformat_minor": 0
}
